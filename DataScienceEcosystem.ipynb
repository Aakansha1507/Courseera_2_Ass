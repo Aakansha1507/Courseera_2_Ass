{
 "cells": [
  {
   "cell_type": "markdown",
   "id": "a69e06ba-4260-4032-80ba-37fbcfc5a179",
   "metadata": {},
   "source": [
    "# Data Science Tools and Ecosystem"
   ]
  },
  {
   "cell_type": "markdown",
   "id": "8114ba81-2643-49e9-b595-8a63523a99cf",
   "metadata": {},
   "source": [
    "In this notebook, Data Science Tools and Ecosystem are summarized."
   ]
  },
  {
   "cell_type": "markdown",
   "id": "7955c43b-02cb-469d-b6c2-106b3e4ba9ef",
   "metadata": {},
   "source": [
    "**Objectives:**\n",
    "* R\n",
    "* Python\n",
    "* Java\n",
    "* Julia\n",
    "* Javascript"
   ]
  },
  {
   "cell_type": "markdown",
   "id": "eeae528d-c741-425f-995d-69058a496bdb",
   "metadata": {},
   "source": [
    "Some of the popular languages that Data Scientists use are:\n",
    "1. Scala\n",
    "2. Python\n",
    "3. R"
   ]
  },
  {
   "cell_type": "markdown",
   "id": "57b28722-4b7d-4702-ba24-8f1b754727cc",
   "metadata": {},
   "source": [
    "Some of the commonly used libraries used by Data Scientists include:\n",
    "1. TensorFlow\n",
    "2. NumPy\n",
    "3. SciPy"
   ]
  },
  {
   "cell_type": "markdown",
   "id": "2f753ca2-9fec-452f-9651-b34d6bf28a0a",
   "metadata": {},
   "source": [
    "| Data Science Tools |\n",
    "|------------------|\n",
    "|    Jupyter       |\n",
    "|    Anaconda      |\n",
    "|    Apache Spark  |"
   ]
  },
  {
   "cell_type": "markdown",
   "id": "a66cdf7a-a279-4e68-9453-69ea29e1e95d",
   "metadata": {},
   "source": [
    "### Below are a few examples of evaluating arithmetic expressions in Python"
   ]
  },
  {
   "cell_type": "code",
   "execution_count": 2,
   "id": "434d472a-bded-4171-b221-33082321d8ae",
   "metadata": {},
   "outputs": [
    {
     "data": {
      "text/plain": [
       "17"
      ]
     },
     "execution_count": 2,
     "metadata": {},
     "output_type": "execute_result"
    }
   ],
   "source": [
    "# This a simple arithmeticexpression to mutiply then add integers\n",
    "(3*4)+5"
   ]
  },
  {
   "cell_type": "code",
   "execution_count": 3,
   "id": "09d355ec-928f-4f13-8c7e-515817cc0cc3",
   "metadata": {},
   "outputs": [
    {
     "data": {
      "text/plain": [
       "3"
      ]
     },
     "execution_count": 3,
     "metadata": {},
     "output_type": "execute_result"
    }
   ],
   "source": [
    "# This will convert 200 minutes tohours by diving by 60\n",
    "200 // 60"
   ]
  },
  {
   "cell_type": "markdown",
   "id": "9937d6cb-cc93-4f34-a1be-07700e61f421",
   "metadata": {},
   "source": [
    "## Author\n",
    "Aakansha Garg"
   ]
  },
  {
   "cell_type": "code",
   "execution_count": null,
   "id": "186470ab-5ec8-45b3-8f48-7655ce607c46",
   "metadata": {},
   "outputs": [],
   "source": []
  }
 ],
 "metadata": {
  "kernelspec": {
   "display_name": "Python",
   "language": "python",
   "name": "conda-env-python-py"
  },
  "language_info": {
   "codemirror_mode": {
    "name": "ipython",
    "version": 3
   },
   "file_extension": ".py",
   "mimetype": "text/x-python",
   "name": "python",
   "nbconvert_exporter": "python",
   "pygments_lexer": "ipython3",
   "version": "3.7.12"
  }
 },
 "nbformat": 4,
 "nbformat_minor": 5
}
